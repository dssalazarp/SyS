{
  "nbformat": 4,
  "nbformat_minor": 0,
  "metadata": {
    "colab": {
      "private_outputs": true,
      "provenance": [],
      "include_colab_link": true
    },
    "kernelspec": {
      "name": "python3",
      "display_name": "Python 3"
    },
    "language_info": {
      "name": "python"
    }
  },
  "cells": [
    {
      "cell_type": "markdown",
      "metadata": {
        "id": "view-in-github",
        "colab_type": "text"
      },
      "source": [
        "<a href=\"https://colab.research.google.com/github/dssalazarp/SyS/blob/main/Copia_de_Parcial1_SyS_2024_2_David_Salazar.ipynb\" target=\"_parent\"><img src=\"https://colab.research.google.com/assets/colab-badge.svg\" alt=\"Open In Colab\"/></a>"
      ]
    },
    {
      "cell_type": "markdown",
      "source": [
        "# Parcial 1: Señales y Sistemas 2024-II\n",
        "\n",
        " ## Profesor: Andrés Marino Álvarez Meza, Ph.D.\n",
        " ## Estudiante: David Santiago Salazar Pineda\n",
        "\n",
        "## Departamento de Ingeniería Eléctrica, Electrónica, y Computación\n",
        "## Universidad Nacional de Colombia - sede Manizales"
      ],
      "metadata": {
        "id": "1fWMHXCqNtQw"
      }
    },
    {
      "cell_type": "markdown",
      "source": [
        "# Instrucciones\n",
        "\n",
        "-- Para recibir el crédito total, sus respuestas deben estar justificadas de manera clara, detallada y concreta, mostrando los procedimientos y razonamientos paso a paso.\n",
        "\n",
        "-- Está permitido el uso de herramientas de inteligencia artificial (IA). Si las utiliza, por favor declare explícitamente cómo fueron empleadas en la resolución de cada pregunta. Incluya los prompts (consultas) y las iteraciones realizadas con las IA durante el desarrollo del parcial.\n",
        "\n",
        "-- La entrega del parcial debe realizarse antes de las 23:59 del 5 de diciembre de 2024 al correo electrónico amalvarezme@unal.edu.co mediante un enlace de GitHub.\n",
        "\n",
        "-- Los códigos deben estar debidamente comentados en las celdas correspondientes y explicados en celdas de texto (markdown). Los códigos que no incluyan comentarios ni discusiones no serán considerados en la evaluación final."
      ],
      "metadata": {
        "id": "15xl7tLEP6YA"
      }
    },
    {
      "cell_type": "markdown",
      "source": [
        "# Pregunta 1 (valor 2.5 puntos)\n",
        "\n",
        "Cuál es la señal obtenida en tiempo discreto al utilizar un conversor análogo digital de 5 bits con frecuencia de muestreo de $5kHz$, aplicado a la señal continua $x(t) = 0.3 \\cos(1000\\pi t-\\pi/4) +\n",
        "0.6 \\sin(2000\\pi t) + 0.1 \\cos(11000\\pi t-\\pi)$?. Realizar la simulación del proceso de digitalización incluyendo al menos 3 ciclos de la señal $x(t)$.\n",
        "\n",
        "En caso de que la digitalización no sea apropiada, diseñe e implemente un conversor adecuado para la señal estudiada. El convesor debe permitir configurar la cantidad de bits y la frecuencia de muestreo, indicándole al usuario si dicha frecuencia es apropiada o no, y graficar la señal continua, discreta y digital."
      ],
      "metadata": {
        "id": "jmI0zzVMRLNx"
      }
    },
    {
      "cell_type": "markdown",
      "source": [
        "Respuesta:"
      ],
      "metadata": {
        "id": "hNuNMlEyLPBw"
      }
    },
    {
      "cell_type": "markdown",
      "source": [
        "\n",
        "\n",
        "1.   Desarrollo de la funcion dada bajos los parametros establesitos por el ejercicio con la señal continua $x(t) = 0.3 \\cos(1000\\pi t-\\pi/4) +\n",
        "0.6 \\sin(2000\\pi t) + 0.1 \\cos(11000\\pi t-\\pi)$ y frecuencia de muestreo de $5kHz$. incluyendo representacion grafica de la misma\n",
        "\n"
      ],
      "metadata": {
        "id": "UXGpXkrMOmwL"
      }
    },
    {
      "cell_type": "code",
      "source": [
        "import numpy as np\n",
        "import matplotlib.pyplot as plt\n",
        "from scipy.spatial.distance import cdist\n",
        "\n",
        "# Definir parámetros de la señal\n",
        "# Amplitud\n",
        "A1 = 0.3\n",
        "A2 = 0.6\n",
        "A3 = 0.1\n",
        "\n",
        "# Frecuencia angular\n",
        "w1 = 1000 * np.pi\n",
        "w2 = 2000 * np.pi\n",
        "w3 = 11000 * np.pi\n",
        "\n",
        "# Periodo de las señales\n",
        "T1 = 2 * np.pi / w1\n",
        "T2 = 2 * np.pi / w2\n",
        "T3 = 2 * np.pi / w3\n",
        "\n",
        "\n",
        "# Frecuencia de las señales\n",
        "F1 = w1 / (2 * np.pi)\n",
        "F2 = w2 / (2 * np.pi)\n",
        "F3 = w3 / (2 * np.pi)\n",
        "\n",
        "# Definir frecuencia de muestreo = 5kHz\n",
        "Fs = 5000\n",
        "\n",
        "# Calcular el MCM de los períodos para hallar el periodo total de la funcion cuasi periodica\n",
        "TT = np.lcm.reduce([int(np.round(T1 * 10000)), int(np.round(T2 * 10000)), int(np.round(T3 * 10000))]) / 10000\n",
        "# se multipica y divide por un numero muy grande para evitar numeros fracionarios debido a que la funcion np.lcm.reduce() no los admite https://numpy.org/doc/2.1/reference/generated/numpy.lcm.html biblioteca de tla funcion\n",
        "Ts= 1/Fs\n",
        "\n",
        "# Definir el rango de tiempo vector tiempo de 0 hasta 3 periodos\n",
        "tv = np.arange(0,3*TT , Ts)\n",
        "\n",
        "# Construir la señal\n",
        "X = A1 * np.cos(w1 * tv - (np.pi / 4)) + A2 * np.sin(w2 * tv) + A3 * np.cos(w3 * tv - np.pi)\n",
        "\n",
        "# Graficar la señal continua original\n",
        "plt.plot(tv, X, 'r', label='Señal continua $x(t)$')\n",
        "plt.xlabel('Tiempo (s)')\n",
        "plt.ylabel('Amplitud')\n",
        "plt.title('Señal continua $x(t)$')\n",
        "plt.legend()\n",
        "plt.grid(True)\n",
        "plt.show()\n",
        "\n",
        "\n",
        "# se grafica la funcion orginal para tener un contraste con respuestas futuras"
      ],
      "metadata": {
        "id": "hIwUn4KQ0Lgb"
      },
      "execution_count": null,
      "outputs": []
    },
    {
      "cell_type": "code",
      "source": [
        "def my_ceropen(x,ymin = -5, ymax = 5): #en general se pueden definir valores por defecto\n",
        "  '''\n",
        "  Codigo base para simular proceso de cero y pendiente\n",
        "  Se ingresa arreglo de numpy y los valores min  y max despues de cero y pendiente\n",
        "  '''\n",
        "  xmax = max(x) # x.max()\n",
        "  xmin = min(x) # x.min()\n",
        "  m = (ymax - ymin)/(xmax - xmin)\n",
        "  c = ymin - m*xmin\n",
        "  yv = m*x + c\n",
        "  return yv"
      ],
      "metadata": {
        "id": "xnPtC_QLE0aR"
      },
      "execution_count": null,
      "outputs": []
    },
    {
      "cell_type": "code",
      "source": [
        "ymin=-3.3\n",
        "ymax=3.3\n",
        "xcp= my_ceropen(X,ymin=ymin,ymax=ymax)\n",
        "plt.plot(tv,xcp,c='r',label='$cero_pendiente$')\n",
        "plt.legend()\n",
        "plt.show()"
      ],
      "metadata": {
        "id": "hBur76vBE6hM"
      },
      "execution_count": null,
      "outputs": []
    },
    {
      "cell_type": "code",
      "source": [
        "xcp.shape\n",
        "tv.shape"
      ],
      "metadata": {
        "id": "z6iAbZFjLwb9"
      },
      "execution_count": null,
      "outputs": []
    },
    {
      "cell_type": "code",
      "source": [
        "nbits=5\n",
        "num_est=2**nbits\n",
        "vq = np.linspace(ymin,ymax,num_est)\n",
        "vq"
      ],
      "metadata": {
        "id": "R4dgJTKDL_lk"
      },
      "execution_count": null,
      "outputs": []
    },
    {
      "cell_type": "code",
      "source": [
        "def my_cuantizador(yn, vq) : #yn punto a #cuantizar, vq vector de estados\n",
        "\n",
        "  Ne = vq.shape[0] #tamaño vector de estados\n",
        "  dn = cdist(yn.reshape(-1,1),vq.reshape(-1,1))#distancia yn a vector estados, reshape(-1,1) asegura vectores columna para poder utilizar cdist\n",
        "  ind = np.argmin(dn) #posición distancia min\n",
        "  return vq[ind]"
      ],
      "metadata": {
        "id": "QVn_fnlbMGBg"
      },
      "execution_count": null,
      "outputs": []
    },
    {
      "cell_type": "code",
      "source": [
        "#función cuantización punto a punto\n",
        "import numpy as np\n",
        "import matplotlib.pyplot as plt\n",
        "\n",
        "\n",
        "#____________________________________________________________________________\n",
        "for i in range(xcp.shape[0]):\n",
        "  if i==0: #primera muestra\n",
        "    yq = my_cuantizador(xcp[i],vq)\n",
        "  else:\n",
        "    yq = np.append(yq,my_cuantizador(xcp[i],vq)) #apilar datos cuantizando si i>0\n",
        "#_____________________________________________________________________________\n",
        "#graficar señales\n",
        "\n",
        "plt.plot(tv,xcp,c='r', label='ycs')#cs continua\n",
        "\n",
        "plt.stem(tv,xcp, label='ycs_dis')#cs discreta\n",
        "\n",
        "#estados de cuantización\n",
        "\n",
        "for v in vq:\n",
        "  plt.plot(tv,v*np.ones(len(tv)))\n",
        "\n",
        "# graficar señal Digital (discreta + cuantizada)\n",
        "\n",
        "plt.plot(tv,yq,c='y',marker='o',label='ydig', linewidth=2)\n",
        "\n",
        "plt.legend()\n",
        "plt.grid()\n",
        "plt.xlabel('t')\n",
        "plt.ylabel('Amplitud')\n",
        "plt.show()"
      ],
      "metadata": {
        "id": "Ed0BperWMLpo"
      },
      "execution_count": null,
      "outputs": []
    },
    {
      "cell_type": "markdown",
      "source": [
        "# NOTA\n",
        " se puede observar que no cumple con el criterio de Nyquits debido a que existe una señal la cual supera la frecuencia de muestreo de 5000 hz la cual es de 5500hz"
      ],
      "metadata": {
        "id": "yTUeLTYjdKWX"
      }
    },
    {
      "cell_type": "markdown",
      "source": [
        "se propone una nueva frecuencia de muestrero la cual sera 4 veces mayor a la frecuencia maxima entre las señales\n"
      ],
      "metadata": {
        "id": "lgJ2YYIwHifF"
      }
    },
    {
      "cell_type": "code",
      "source": [
        "import numpy as np\n",
        "import matplotlib.pyplot as plt\n",
        "from scipy.spatial.distance import cdist\n",
        "\n",
        "# Definir parámetros de la señal\n",
        "# Amplitud\n",
        "A1 = 0.3\n",
        "A2 = 0.6\n",
        "A3 = 0.1\n",
        "\n",
        "# Frecuencia angular\n",
        "w1 = 1000 * np.pi\n",
        "w2 = 2000 * np.pi\n",
        "w3 = 11000 * np.pi\n",
        "\n",
        "# Periodo de las señales\n",
        "T1 = 2 * np.pi / w1\n",
        "T2 = 2 * np.pi / w2\n",
        "T3 = 2 * np.pi / w3\n",
        "\n",
        "\n",
        "# Frecuencia de las señales\n",
        "F1 = w1 / (2 * np.pi)\n",
        "F2 = w2 / (2 * np.pi)\n",
        "F3 = w3 / (2 * np.pi)\n",
        "\n",
        "# Definir frecuencia de muestreo\n",
        "Fn= max([F1,F2,F3]) #busca la frecuencia mas alta en la funcion\n",
        "Fs = 4*Fn # freecuencia de Nyquist\n",
        "\n",
        "# Calcular el MCM de los períodos\n",
        "TT = np.lcm.reduce([int(np.round(T1 * 10000)), int(np.round(T2 * 10000)), int(np.round(T3 * 10000))]) / 10000\n",
        "Ts= 1/Fs\n",
        "# Definir el rango de tiempo vector tiempo\n",
        "tv = np.arange(0,3*TT , Ts)\n",
        "\n",
        "# Construir la señal\n",
        "X = A1 * np.cos(w1 * tv - (np.pi / 4)) + A2 * np.sin(w2 * tv) + A3 * np.cos(w3 * tv - np.pi)\n",
        "\n",
        "# Graficar la señal continua original\n",
        "plt.plot(tv, X, 'r', label='Señal continua $x(t)$')\n",
        "plt.xlabel('Tiempo (s)')\n",
        "plt.ylabel('Amplitud')\n",
        "plt.title('Señal continua $x(t)$')\n",
        "plt.legend()\n",
        "plt.grid(True)\n",
        "plt.show()\n",
        "\n",
        "\n",
        "# se grafica la funcion orginal para tener un contraste con respuestas futuras"
      ],
      "metadata": {
        "id": "wbIsvrd0dk6l"
      },
      "execution_count": null,
      "outputs": []
    },
    {
      "cell_type": "code",
      "source": [
        "def my_ceropen(x,ymin = -5, ymax = 5): #en general se pueden definir valores por defecto\n",
        "  '''\n",
        "  Codigo base para simular proceso de cero y pendiente\n",
        "  Se ingresa arreglo de numpy y los valores min  y max despues de cero y pendiente\n",
        "  '''\n",
        "  xmax = max(x) # x.max()\n",
        "  xmin = min(x) # x.min()\n",
        "  m = (ymax - ymin)/(xmax - xmin)\n",
        "  c = ymin - m*xmin\n",
        "  yv = m*x + c\n",
        "  return yv"
      ],
      "metadata": {
        "id": "weDI-840eBb0"
      },
      "execution_count": null,
      "outputs": []
    },
    {
      "cell_type": "code",
      "source": [
        "ymin=-3.3\n",
        "ymax=3.3\n",
        "xcp= my_ceropen(X,ymin=ymin,ymax=ymax)\n",
        "plt.plot(tv,xcp,c='r',label='$cero_pendiente$')\n",
        "plt.legend()\n",
        "plt.show()"
      ],
      "metadata": {
        "id": "yIJg270_eIpP"
      },
      "execution_count": null,
      "outputs": []
    },
    {
      "cell_type": "code",
      "source": [
        "def my_cuantizador(yn, vq) : #yn punto a #cuantizar, vq vector de estados\n",
        "\n",
        "  Ne = vq.shape[0] #tamaño vector de estados\n",
        "  dn = cdist(yn.reshape(-1,1),vq.reshape(-1,1))#distancia yn a vector estados, reshape(-1,1) asegura vectores columna para poder utilizar cdist\n",
        "  ind = np.argmin(dn) #posición distancia min\n",
        "  return vq[ind]"
      ],
      "metadata": {
        "id": "r-tBQAZ-eOi5"
      },
      "execution_count": null,
      "outputs": []
    },
    {
      "cell_type": "code",
      "source": [
        "#función cuantización punto a punto\n",
        "import numpy as np\n",
        "import matplotlib.pyplot as plt\n",
        "\n",
        "\n",
        "#____________________________________________________________________________\n",
        "for i in range(xcp.shape[0]):\n",
        "  if i==0: #primera muestra\n",
        "    yq = my_cuantizador(xcp[i],vq)\n",
        "  else:\n",
        "    yq = np.append(yq,my_cuantizador(xcp[i],vq)) #apilar datos cuantizando si i>0\n",
        "#_____________________________________________________________________________\n",
        "#graficar señales\n",
        "\n",
        "plt.plot(tv,xcp,c='r', label='ycs')#cs continua\n",
        "\n",
        "plt.stem(tv,xcp, label='ycs_dis')#cs discreta\n",
        "\n",
        "#estados de cuantización\n",
        "\n",
        "for v in vq:\n",
        "  plt.plot(tv,v*np.ones(len(tv)))\n",
        "\n",
        "# graficar señal Digital (discreta + cuantizada)\n",
        "\n",
        "plt.plot(tv,yq,c='y',marker='o',label='ydig', linewidth=2)\n",
        "\n",
        "plt.legend()\n",
        "plt.grid()\n",
        "plt.xlabel('t')\n",
        "plt.ylabel('Amplitud')\n",
        "plt.show()"
      ],
      "metadata": {
        "id": "YI_sWYOfeTvw"
      },
      "execution_count": null,
      "outputs": []
    },
    {
      "cell_type": "markdown",
      "source": [
        "Se observa que se cumple nyquist y se observa que la señal esta completa"
      ],
      "metadata": {
        "id": "TYG4-q7zHw6P"
      }
    },
    {
      "cell_type": "markdown",
      "source": [],
      "metadata": {
        "id": "A4pdsTJFH2CP"
      }
    },
    {
      "cell_type": "markdown",
      "source": [
        "# Pregunta 2 (valor 2.5 puntos)\n",
        "\n",
        "Se dispone de un sistema modelado como una \"caja negra\" (ver celdas de código). Su tarea es analizar y comprobar mediante simulaciones si el sistema cumple con las propiedades de linealidad e invariancia en el tiempo. En caso de que el sistema sea lineal e invariante con el tiempo, determine su respuesta al impulso y utilice esta respuesta para calcular la salida del sistema ante la siguiente señal:\n",
        "\n",
        "$x[n] = \\sin[100 \\pi n ] + \\sin[600 \\pi n]$"
      ],
      "metadata": {
        "id": "5Za-WbLpSele"
      }
    },
    {
      "cell_type": "code",
      "source": [
        "# cargar sistema\n",
        "FILEID = \"1J9rhh0wWHZSBd8XmWGt1ZpCsMDuoUFmm\"\n",
        "!wget --load-cookies /tmp/cookies.txt \"https://docs.google.com/uc?export=download&confirm=$(wget --quiet --save-cookies /tmp/cookies.txt --keep-session-cookies --no-check-certificate 'https://docs.google.com/uc?export=download&id='$FILEID -O- | sed -rn 's/.*confirm=([0-9A-Za-z_]+).*/\\1\\n/p')&id=\"$FILEID -O P1_model.zip && rm -rf /tmp/cookies.txt\n",
        "!unzip -o P1_model.zip\n",
        "!dir"
      ],
      "metadata": {
        "id": "6yJMMFK6zo5K"
      },
      "execution_count": null,
      "outputs": []
    },
    {
      "cell_type": "code",
      "source": [
        "import numpy as np\n",
        "import matplotlib.pyplot as plt\n",
        "import joblib\n",
        "from P1_model import system_\n",
        "from scipy.signal import firwin, freqz, lfilter, filtfilt\n",
        "\n",
        "\n",
        "\n",
        "#sistema pregunta 2\n",
        "my_system = system_.My_System()\n",
        "my_system.create_()\n",
        "fs = my_system.fs #frecuencia de muestreo\n",
        "t = np.arange(-0.01, 0.02, 1/fs)  # Tiempo\n",
        "signal_u = np.heaviside(t,1) # función heaviside\n",
        "y_u = my_system.predict(signal_u)\n",
        "# Visualización de las señales\n",
        "fig, axs = plt.subplots(2,1)\n",
        "axs[0].stem(t, signal_u, label='Señal de entrada')\n",
        "axs[0].set_xlabel('Tiempo (s)')\n",
        "axs[0].set_ylabel('Amplitud')\n",
        "axs[0].legend()\n",
        "axs[0].grid()\n",
        "axs[1].stem(t,y_u, label='Señal salida')\n",
        "axs[1].set_xlabel('Tiempo (s)')\n",
        "axs[1].set_ylabel('Amplitud')\n",
        "axs[1].legend()\n",
        "axs[1].grid()\n",
        "plt.tight_layout()\n",
        "plt.show()"
      ],
      "metadata": {
        "id": "nUX7Vr1fTUYW"
      },
      "execution_count": null,
      "outputs": []
    },
    {
      "cell_type": "code",
      "source": [
        "import numpy as np\n",
        "import matplotlib.pyplot as plt\n",
        "import joblib\n",
        "from P1_model import system_\n",
        "from scipy.signal import firwin, freqz, lfilter, filtfilt\n",
        "\n",
        "# Parámetros\n",
        "A = 2  # Amplitud del escalón\n",
        "B = 5  # Amplitud de la sinusoide\n",
        "f =120  # Frecuencia de la sinusoide\n",
        "\n",
        "# Sistema\n",
        "my_system = system_.My_System()\n",
        "my_system.create_()\n",
        "fs = my_system.fs  # Frecuencia de muestreo\n",
        "t = np.arange(-0.01, 0.02, 1/fs)  # Tiempo\n",
        "\n",
        "# Señales de entrada\n",
        "signal_u1 = np.heaviside(t, 0)  # Escalón unitario\n",
        "signal_sin = np.sin(2 * np.pi * f * t)  # Sinusoide\n",
        "signal_esp = A*signal_u1 + B*signal_sin  # Combined signal\n",
        "\n",
        "# Respuestas del sistema\n",
        "y_u1 = my_system.predict(signal_u1)\n",
        "y_sin = my_system.predict(signal_sin)\n",
        "Y_e = my_system.predict(signal_esp)  # Output for combined signal\n",
        "signal_p = A*y_u1 + B*y_sin #suma de las salidas individuales\n",
        "\n",
        "# Visualización\n",
        "\n",
        "\n",
        "# Graficar señales y salidas\n",
        "plt.figure(figsize=(12, 8))\n",
        "\n",
        "# Gráfica de las señales de entrada\n",
        "plt.subplot(3, 1, 1)\n",
        "plt.plot(t, signal_u1, label=\"Escalón Unitario (Signal_u1)\")\n",
        "plt.plot(t, signal_sin, label=\"Sinusoide (Signal_sin)\")\n",
        "plt.title(\"Señales de Entrada\")\n",
        "plt.xlabel(\"Tiempo (s)\")\n",
        "plt.ylabel(\"Amplitud\")\n",
        "plt.legend()\n",
        "plt.grid()\n",
        "\n",
        "# Gráfica de las salidas individuales\n",
        "plt.subplot(3, 1, 2)\n",
        "plt.plot(t, y_u1, label=\"Salida por Escalón (Y_u1)\")\n",
        "plt.plot(t, y_sin, label=\"Salida por Sinusoide (Y_sin)\")\n",
        "plt.title(\"Salidas Individuales\")\n",
        "plt.xlabel(\"Tiempo (s)\")\n",
        "plt.ylabel(\"Amplitud\")\n",
        "plt.legend()\n",
        "plt.grid()\n",
        "\n",
        "# Comprobacion\n",
        "plt.subplot(3, 1, 3)\n",
        "plt.plot(t, signal_p, label=\"Salida Sistema para suma del todo\", linestyle=\"-\")\n",
        "plt.plot(t, Y_e, label=\"Salida Esperada por Linealidad \", linestyle=\"--\")\n",
        "plt.title(\"Comparación: Y_L vs Y_e\")\n",
        "plt.xlabel(\"Tiempo (s)\")\n",
        "plt.ylabel(\"Amplitud\")\n",
        "plt.legend()\n",
        "plt.grid()\n",
        "\n",
        "plt.tight_layout()\n",
        "plt.show()\n"
      ],
      "metadata": {
        "id": "Nh4XngBCn9Vx"
      },
      "execution_count": null,
      "outputs": []
    },
    {
      "cell_type": "markdown",
      "source": [
        "se puede observar la linealidad debido a que las señales se superponene indicando que son la misma evaluada en el todo y evaluda POR PARTES"
      ],
      "metadata": {
        "id": "yTemlSwg6txe"
      }
    },
    {
      "cell_type": "code",
      "source": [
        "import numpy as np\n",
        "import matplotlib.pyplot as plt\n",
        "import joblib\n",
        "from P1_model import system_\n",
        "from scipy.signal import firwin, freqz, lfilter, filtfilt\n",
        "\n",
        "# Parámetros\n",
        "A = 2  # Amplitud del escalón\n",
        "B = 5  # Amplitud de la sinusoide\n",
        "f =120  # Frecuencia de la sinusoide\n",
        "\n",
        "# Sistema\n",
        "my_system = system_.My_System()\n",
        "my_system.create_()\n",
        "fs = my_system.fs  # Frecuencia de muestreo\n",
        "t = np.arange(-0.01, 0.02, 1/fs)  # Tiempo\n",
        "\n",
        "\n",
        "# Señales de entrada\n",
        "signal_u1 = np.heaviside(t+2, 0)  # Escalón unitario\n",
        "signal_sin = np.sin(2 * np.pi * f * t+2)  # Sinusoide\n",
        "signal_esp = A*signal_u1 + B*signal_sin  # Combined signal\n",
        "\n",
        "# Respuestas del sistema\n",
        "y_u1 = my_system.predict(signal_u1)\n",
        "y_sin = my_system.predict(signal_sin)\n",
        "Y_e = my_system.predict(signal_esp)  # Output for combined signal\n",
        "signal_p =( A*y_u1 + B*y_sin) #suma de las salidas individuales\n",
        "\n",
        "# Visualización\n",
        "\n",
        "\n",
        "# Graficar señales y salidas\n",
        "plt.figure(figsize=(12, 8))\n",
        "\n",
        "# Gráfica de las señales de entrada\n",
        "plt.subplot(3, 1, 1)\n",
        "plt.plot(t, signal_u1, label=\"Escalón Unitario (Signal_u1)\")\n",
        "plt.plot(t, signal_sin, label=\"Sinusoide (Signal_sin)\")\n",
        "plt.title(\"Señales de Entrada\")\n",
        "plt.xlabel(\"Tiempo (s)\")\n",
        "plt.ylabel(\"Amplitud\")\n",
        "plt.legend()\n",
        "plt.grid()\n",
        "\n",
        "# Gráfica de las salidas individuales\n",
        "plt.subplot(3, 1, 2)\n",
        "plt.plot(t, y_u1, label=\"Salida por Escalón (Y_u1)\")\n",
        "plt.plot(t, y_sin, label=\"Salida por Sinusoide (Y_sin)\")\n",
        "plt.title(\"Salidas Individuales\")\n",
        "plt.xlabel(\"Tiempo (s)\")\n",
        "plt.ylabel(\"Amplitud\")\n",
        "plt.legend()\n",
        "plt.grid()\n",
        "\n",
        "# Comprobacion\n",
        "plt.subplot(3, 1, 3)\n",
        "plt.plot(t, signal_p, label=\"Salida Sistema para suma del todo\", linestyle=\"-\")\n",
        "plt.plot(t, Y_e, label=\"Salida Esperada por Linealidad \", linestyle=\"--\")\n",
        "plt.title(\"Comparación: Y_L vs Y_e\")\n",
        "plt.xlabel(\"Tiempo (s)\")\n",
        "plt.ylabel(\"Amplitud\")\n",
        "plt.legend()\n",
        "plt.grid()\n",
        "\n",
        "plt.tight_layout()\n",
        "plt.show()"
      ],
      "metadata": {
        "id": "X-tEsICH6k5D"
      },
      "execution_count": null,
      "outputs": []
    },
    {
      "cell_type": "markdown",
      "source": [
        "en este momento se cambia el tiempo en t+2 y se obtiene la misma señal comnprobando invarianza en el tiempo"
      ],
      "metadata": {
        "id": "3GgsFFEL7v6q"
      }
    },
    {
      "cell_type": "code",
      "source": [
        "import numpy as np\n",
        "import matplotlib.pyplot as plt\n",
        "from P1_model import system_\n",
        "\n",
        "# Crear el sistema\n",
        "my_system = system_.My_System()\n",
        "my_system.create_()\n",
        "fs = my_system.fs  # Frecuencia de muestreo\n",
        "t = np.arange(-0.01, 0.02, 1/fs)  # Tiempo\n",
        "signal_u = np.heaviside(t, 1)  # Función Heaviside (escalón unitario)\n",
        "y_u = my_system.predict(signal_u)  # Respuesta al escalón\n",
        "y_d = np.diff(y_u)  # Aproximación de la respuesta al impulso\n",
        "\n",
        "ts=1/fs\n",
        "n=np.arange(len(y_d))\n",
        "x_n = np.sin(100 * np.pi * n/fs) + np.sin(600 * np.pi * n/fs)\n",
        "\n",
        "# Realizar la convolución entre y_d (respuesta al impulso) y x_n (entrada)\n",
        "conv_result = np.convolve(y_d, x_n, mode='full')  # 'full' devuelve la convolución completa\n",
        "\n",
        "# Graficar las señales originales y la convolución\n",
        "plt.figure(figsize=(12, 8))\n",
        "\n",
        "# Señal de entrada x_n\n",
        "plt.subplot(3, 1, 1)\n",
        "plt.plot(n/fs, x_n[:len(t)], label=\"Entrada x_n (ampliada)\", color='b')\n",
        "plt.title(\"Señal de Entrada: x_n (Ampliada)\")\n",
        "plt.xlabel(\"Tiempo (s)\")\n",
        "plt.ylabel(\"Amplitud\")\n",
        "plt.legend()\n",
        "plt.grid()\n",
        "\n",
        "# Respuesta al impulso y_d\n",
        "plt.subplot(3, 1, 2)\n",
        "plt.plot(t[1:], y_d, label=\"Respuesta al impulso y_d\")  # t[1:] para ajustar el tamaño\n",
        "plt.title(\"Respuesta al Impulso: y_d\")\n",
        "plt.xlabel(\"Tiempo (s)\")\n",
        "plt.ylabel(\"Amplitud\")\n",
        "plt.legend()\n",
        "plt.grid()\n",
        "\n",
        "# Resultado de la convolución\n",
        "plt.subplot(3, 1, 3)\n",
        "plt.plot(np.arange(-0.01, 0.02 + (len(conv_result) - len(t)) / fs, 1/fs), conv_result, label=\"Convolución de y_d y x_n\")\n",
        "plt.title(\"Resultado de la Convolución\")\n",
        "plt.xlabel(\"Tiempo (s)\")\n",
        "plt.ylabel(\"Amplitud\")\n",
        "plt.legend()\n",
        "plt.grid()\n",
        "\n",
        "plt.tight_layout()\n",
        "plt.show()\n"
      ],
      "metadata": {
        "id": "cOuJPwep9Vqq"
      },
      "execution_count": null,
      "outputs": []
    },
    {
      "cell_type": "markdown",
      "source": [
        "se raliza la derivada de la señal escalon para obtener la señal impusol y se realiza la convolucion con la señal dada por el ejercicio para la cual al estar en tiempo discreto se debe realizar el despeje de n en funcion del tiempo obteniendo que n/fs obtenido de la formula t=n*ts  debido a que ts = 1/fs tenemos que t=n/fs y de esta manera se puede simular la señal deseada\n"
      ],
      "metadata": {
        "id": "wXYiO5ziICY0"
      }
    },
    {
      "cell_type": "code",
      "source": [],
      "metadata": {
        "id": "38EHtBHUIpo2"
      },
      "execution_count": null,
      "outputs": []
    }
  ]
}